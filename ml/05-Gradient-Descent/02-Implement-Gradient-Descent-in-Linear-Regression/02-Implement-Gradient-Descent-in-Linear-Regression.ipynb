{
 "cells": [
  {
   "cell_type": "markdown",
   "source": [
    "### 线性回归中使用梯度下降法\n",
    "\n",
    "线性回归中,为了是模型更好,需要使损失函数尽可能下\n",
    "\n",
    "在之前的学习中,求出系数和截距值即可\n",
    "\n",
    "本案例中,线性回归中使用梯度下降法来求解系数和截距  "
   ],
   "metadata": {
    "collapsed": false,
    "pycharm": {
     "name": "#%% md\n"
    }
   }
  },
  {
   "cell_type": "code",
   "execution_count": 2,
   "outputs": [],
   "source": [
    "import numpy as np\n",
    "import matplotlib.pyplot as plt"
   ],
   "metadata": {
    "collapsed": false,
    "pycharm": {
     "name": "#%%\n",
     "is_executing": false
    }
   }
  },
  {
   "cell_type": "code",
   "execution_count": 2,
   "outputs": [
    {
     "name": "stdout",
     "text": [
      "X.shape: (100, 1)\n",
      "y.shape: (100,)\n"
     ],
     "output_type": "stream"
    }
   ],
   "source": [
    "# 构造数据\n",
    "np.random.seed(100)  # 设定随机种子,方便多次测试\n",
    "x = 2* np.random.random(size=100)\n",
    "y = x*3. + 4 + np.random.normal(size=100)\n",
    "\n",
    "X = x.reshape(-1, 1)\n",
    "print('X.shape:',X.shape)\n",
    "print('y.shape:',y.shape)"
   ],
   "metadata": {
    "collapsed": false,
    "pycharm": {
     "name": "#%%\n",
     "is_executing": false
    }
   }
  },
  {
   "cell_type": "code",
   "execution_count": 3,
   "outputs": [
    {
     "data": {
      "text/plain": "<Figure size 432x288 with 1 Axes>",
      "image/png": "[encoded data removed]"
     },
     "metadata": {
      "needs_background": "light"
     },
     "output_type": "display_data"
    }
   ],
   "source": [
    "# 绘制图像\n",
    "plt.scatter(x, y)\n",
    "plt.show()"
   ],
   "metadata": {
    "collapsed": false,
    "pycharm": {
     "name": "#%%\n",
     "is_executing": false
    }
   }
  },
  {
   "cell_type": "markdown",
   "source": [
    "线性回归中损失函数公式:\n",
    "\n",
    "[均方误差公式](img/均方误差MSE.png)"
   ],
   "metadata": {
    "collapsed": false,
    "pycharm": {
     "name": "#%% md\n"
    }
   }
  },
  {
   "cell_type": "code",
   "execution_count": 4,
   "outputs": [],
   "source": [
    "# 定义损失函数\n",
    "\n",
    "def J(theta, X_b, y):\n",
    "    \"\"\"\n",
    "        损失函数定义\n",
    "    :theta 求导变量,关于theta求导\n",
    "    :X_b 数据集X新增一列,且值都为1的新矩阵\n",
    "    :y   数据集y\n",
    "    :return 损失函数,如值太大无法表示,则返回 float的最大值\n",
    "    \"\"\"\n",
    "    try:\n",
    "        return np.sum((y - X_b.dot(theta)) ** 2) / len(X_b)\n",
    "    except:\n",
    "        return float('inf')\n",
    "    "
   ],
   "metadata": {
    "collapsed": false,
    "pycharm": {
     "name": "#%%\n",
     "is_executing": false
    }
   }
  },
  {
   "cell_type": "markdown",
   "source": [
    "损失函数求导公式\n",
    "\n",
    "[损失函数求导公式](img/线性回归使用梯度下降法.png)"
   ],
   "metadata": {
    "collapsed": false,
    "pycharm": {
     "name": "#%% md\n"
    }
   }
  },
  {
   "cell_type": "code",
   "execution_count": 5,
   "outputs": [],
   "source": [
    "# 定义损失函数求导函数\n",
    "def dJ(theta, X_b, y):\n",
    "    \"\"\"\n",
    "        损失函数求导函数定义\n",
    "    :theta 求导变量,关于theta求导\n",
    "    :X_b 数据集X新增一列,且值都为1的新矩阵\n",
    "    :y   数据集y\n",
    "    :return 损失函数求导函数\n",
    "    \"\"\"\n",
    "    result = np.empty(len(theta))  # 构建大小为len(theta)的空列表\n",
    "    result[0] = np.sum(X_b.dot(theta) - y)  # 先处理theta_0的导数\n",
    "    \n",
    "    # 对之后的所有theta进行求导,除了第一列theta_0\n",
    "    for i in range(1, len(theta)):\n",
    "        result[i] = (X_b.dot(theta) - y).dot(X_b[:, i])\n",
    "        \n",
    "    return 2 * result / len(X_b)"
   ],
   "metadata": {
    "collapsed": false,
    "pycharm": {
     "name": "#%%\n",
     "is_executing": false
    }
   }
  },
  {
   "cell_type": "code",
   "execution_count": 6,
   "outputs": [],
   "source": [
    "# 定义梯度下降函数\n",
    "def gradient_descent(X_b, y, initial_theta, i_iter=1e4, eta=0.01, epsilon=1e-8):\n",
    "    \"\"\"\n",
    "        梯度下降函数定义\n",
    "    :X_b 数据集X新增一列,且值都为1的新矩阵\n",
    "    :y   数据集y\n",
    "    :initial_theta   初始theta\n",
    "    :i_iter   迭代次数\n",
    "    :eta   学习率(步长),默认0.01\n",
    "    :epsilon   无限接近0的数\n",
    "    :return theta值\n",
    "    \"\"\"\n",
    "    theta = initial_theta\n",
    "    count = 0\n",
    "    while count < i_iter:\n",
    "        gradient = dJ(theta, X_b, y)\n",
    "        last_theta = theta\n",
    "        theta = theta - eta * gradient  # 不能写为theta -= eta * gradient\n",
    "        if abs(J(theta, X_b, y) - J(last_theta, X_b, y)) < epsilon:\n",
    "            break\n",
    "        count += 1\n",
    "    \n",
    "    return theta"
   ],
   "metadata": {
    "collapsed": false,
    "pycharm": {
     "name": "#%%\n",
     "is_executing": false
    }
   }
  },
  {
   "cell_type": "markdown",
   "source": [
    "### 不能写为theta -= eta * gradient的原因\n",
    "因为 theta = theta - eta * gradient，每次 theta - eta * gradient 产生了一个新的 np.array 的对象，赋给 theta，也就是让 theta 指向了一个全新的向量；\n",
    "\n",
    "但是，theta -= eta * gradient 只是修改当前 theta 指向的向量的内存。\n",
    "\n",
    "\n",
    "因为前面有一句 last_theta = theta，这将直接也修改 last_theta 的值。\n",
    "\n",
    "如果想使用 theta -= eta * gradient，就要让 last_theta 和 theta 的指向不一致。方法是，可以把 last_theta = theta 这一句改成：last_theta = np.array(theta)。\n",
    "\n",
    "即根据 theta 的值，创建一个新的 np.array，赋给 last_theta。\n",
    "\n",
    "**另外**,只有可变类型存在这种问题,不可变类型不存在,普通常量赋值使用 '-=' 操作没有任何问题\n",
    "\n",
    "其实,在Python中一切皆对象,theta就是np.array对象,可变类型"
   ],
   "metadata": {
    "collapsed": false,
    "pycharm": {
     "name": "#%% md\n"
    }
   }
  },
  {
   "cell_type": "code",
   "execution_count": 11,
   "outputs": [
    {
     "name": "stdout",
     "text": [
      "未做任何修改的lst1地址 1931448418016\n",
      "lst1 -= lst1 - lst2修改的lst1地址 1931448418016\n",
      "lst1 = lst1 - lst2修改的lst1地址 1931451776816\n"
     ],
     "output_type": "stream"
    }
   ],
   "source": [
    "# 验证-=操作符\n",
    "lst1 = np.array([1, 2, 3, 4])\n",
    "print('未做任何修改的lst1地址', id(lst1))\n",
    "lst2 = np.array([2, 3, 4, 5])\n",
    "\n",
    "lst1 -= lst1 - lst2  # 地址未变,还是刚开始定义lst1的地址\n",
    "print('lst1 -= lst1 - lst2修改的lst1地址', id(lst1))  \n",
    "\n",
    "lst1 = lst1 - lst2  # 地址变了,lst1指向了一个全新的地址\n",
    "print('lst1 = lst1 - lst2修改的lst1地址', id(lst1))\n",
    "\n"
   ],
   "metadata": {
    "collapsed": false,
    "pycharm": {
     "name": "#%%\n",
     "is_executing": false
    }
   }
  },
  {
   "cell_type": "markdown",
   "source": [
    "# 验证 测试\n"
   ],
   "metadata": {
    "collapsed": false,
    "pycharm": {
     "name": "#%% md\n",
     "is_executing": false
    }
   }
  },
  {
   "cell_type": "code",
   "execution_count": 7,
   "outputs": [
    {
     "data": {
      "text/plain": "array([[1.        , 1.08680988],\n       [1.        , 0.55673877],\n       [1.        , 0.84903518],\n       [1.        , 1.68955226],\n       [1.        , 0.00943771],\n       [1.        , 0.24313824],\n       [1.        , 1.34149817],\n       [1.        , 1.65170551],\n       [1.        , 0.27341318],\n       [1.        , 1.15018666]])"
     },
     "metadata": {},
     "output_type": "execute_result",
     "execution_count": 7
    }
   ],
   "source": [
    "# 构造X_b数据集, 在X第一列新增值都为1的列\n",
    "X_b = np.hstack((np.ones((len(X),1)), X))\n",
    "X_b[:10]"
   ],
   "metadata": {
    "collapsed": false,
    "pycharm": {
     "name": "#%%\n",
     "is_executing": false
    }
   }
  },
  {
   "cell_type": "code",
   "execution_count": 8,
   "outputs": [
    {
     "data": {
      "text/plain": "array([0., 0.])"
     },
     "metadata": {},
     "output_type": "execute_result",
     "execution_count": 8
    }
   ],
   "source": [
    "# 构造theta初始值, 假设从0开始  \n",
    "# X_b.shape[1] 是保证每个x都有系数theta\n",
    "initial_theta = np.zeros(X_b.shape[1])\n",
    "initial_theta"
   ],
   "metadata": {
    "collapsed": false,
    "pycharm": {
     "name": "#%%\n",
     "is_executing": false
    }
   }
  },
  {
   "cell_type": "code",
   "execution_count": 9,
   "outputs": [
    {
     "data": {
      "text/plain": "array([3.98255707, 2.86436851])"
     },
     "metadata": {},
     "output_type": "execute_result",
     "execution_count": 9
    }
   ],
   "source": [
    "# 使用梯度下降法计算theta值\n",
    "theta = gradient_descent(X_b, y, initial_theta)\n",
    "theta"
   ],
   "metadata": {
    "collapsed": false,
    "pycharm": {
     "name": "#%%\n",
     "is_executing": false
    }
   }
  },
  {
   "cell_type": "markdown",
   "source": [
    "使用自己封装的梯度下降法来训练线性回归模型"
   ],
   "metadata": {
    "collapsed": false,
    "pycharm": {
     "name": "#%% md\n"
    }
   }
  },
  {
   "cell_type": "code",
   "execution_count": 22,
   "outputs": [
    {
     "data": {
      "text/plain": "LinearRegression()"
     },
     "metadata": {},
     "output_type": "execute_result",
     "execution_count": 22
    }
   ],
   "source": [
    "from LinearRegression import LinearRegression\n",
    "\n",
    "\n",
    "estimator = LinearRegression()\n",
    "\n",
    "estimator.fit_gd(X, y)"
   ],
   "metadata": {
    "collapsed": false,
    "pycharm": {
     "name": "#%%\n",
     "is_executing": false
    }
   }
  },
  {
   "cell_type": "code",
   "execution_count": 23,
   "outputs": [
    {
     "data": {
      "text/plain": "3.9825570701953943"
     },
     "metadata": {},
     "output_type": "execute_result",
     "execution_count": 23
    }
   ],
   "source": [
    "# 查看截距\n",
    "estimator.intercept_"
   ],
   "metadata": {
    "collapsed": false,
    "pycharm": {
     "name": "#%%\n",
     "is_executing": false
    }
   }
  },
  {
   "cell_type": "code",
   "execution_count": 24,
   "outputs": [
    {
     "data": {
      "text/plain": "array([2.86436851])"
     },
     "metadata": {},
     "output_type": "execute_result",
     "execution_count": 24
    }
   ],
   "source": [
    "# 查看系数\n",
    "estimator.coef_\n"
   ],
   "metadata": {
    "collapsed": false,
    "pycharm": {
     "name": "#%%\n",
     "is_executing": false
    }
   }
  }
 ],
 "metadata": {
  "kernelspec": {
   "display_name": "Python 3",
   "language": "python",
   "name": "python3"
  },
  "language_info": {
   "codemirror_mode": {
    "name": "ipython",
    "version": 2
   },
   "file_extension": ".py",
   "mimetype": "text/x-python",
   "name": "python",
   "nbconvert_exporter": "python",
   "pygments_lexer": "ipython2",
   "version": "2.7.6"
  },
  "pycharm": {
   "stem_cell": {
    "cell_type": "raw",
    "source": [],
    "metadata": {
     "collapsed": false
    }
   }
  }
 },
 "nbformat": 4,
 "nbformat_minor": 0
}