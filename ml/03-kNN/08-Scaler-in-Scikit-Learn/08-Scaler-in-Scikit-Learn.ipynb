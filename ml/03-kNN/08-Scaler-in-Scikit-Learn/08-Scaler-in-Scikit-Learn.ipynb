{
 "cells": [
  {
   "cell_type": "markdown",
   "metadata": {
    "collapsed": true,
    "pycharm": {
     "name": "#%% md\n"
    }
   },
   "source": [
    "## 测试数据集如何归一化?\n",
    "\n",
    "一般的,我们都会对训练数据集进行归一化(常用标准值归一化),那测试数据集是否也要进行同样的步骤来计算均值和方差计算呢?\n",
    "\n",
    "事实上这样做是不可取的.我们训练出的模型就是要投入到真实环境中使用,而测试数据是模拟真实(生产)环境的\n",
    "\n",
    "因此,对测试数据集进行归一化是不能按照之前训练数据集归一化的思路来处理的,原因如下:\n",
    "\n",
    "- 在真实环境中,很有可能无法得到所有测试数据集的均值和方差\n",
    "\n",
    "直接采用训练数据集的均值和方差对测试数据集进行归一化才是准确的思路,因此我们要保存训练数据集的均值和方差\n",
    "\n",
    "Scikit-learn中封装了Scaler类来同处理数据归一化问题"
   ]
  },
  {
   "cell_type": "markdown",
   "source": [
    "## Scikit-learn中的Scaler类\n",
    "\n",
    "Scale类和其他机器学习算法的封装思想类似,实战操作一下 "
   ],
   "metadata": {
    "collapsed": false,
    "pycharm": {
     "name": "#%% md\n"
    }
   }
  },
  {
   "cell_type": "code",
   "execution_count": 85,
   "outputs": [
    {
     "data": {
      "text/plain": "array([[5.1, 3.5, 1.4, 0.2],\n       [4.9, 3. , 1.4, 0.2],\n       [4.7, 3.2, 1.3, 0.2],\n       [4.6, 3.1, 1.5, 0.2],\n       [5. , 3.6, 1.4, 0.2],\n       [5.4, 3.9, 1.7, 0.4],\n       [4.6, 3.4, 1.4, 0.3],\n       [5. , 3.4, 1.5, 0.2],\n       [4.4, 2.9, 1.4, 0.2],\n       [4.9, 3.1, 1.5, 0.1]])"
     },
     "metadata": {},
     "output_type": "execute_result",
     "execution_count": 85
    }
   ],
   "source": [
    "from sklearn import datasets\n",
    "from sklearn.model_selection import train_test_split\n",
    "from sklearn.preprocessing import StandardScaler  # 从数据预处理模块导入标准值归一化类\n",
    "\n",
    "# 构造数据(鸢尾花数据集)\n",
    "iris_data = datasets.load_iris()\n",
    "X = iris_data.data\n",
    "y = iris_data.target\n",
    "X[:10, :]"
   ],
   "metadata": {
    "collapsed": false,
    "pycharm": {
     "name": "#%%\n",
     "is_executing": false
    }
   }
  },
  {
   "cell_type": "code",
   "execution_count": 86,
   "outputs": [],
   "source": [
    "# 数据集分割\n",
    "X_train, X_test, y_train, y_test = train_test_split(X, y, test_size=0.2, random_state=100)"
   ],
   "metadata": {
    "collapsed": false,
    "pycharm": {
     "name": "#%%\n",
     "is_executing": false
    }
   }
  },
  {
   "cell_type": "code",
   "execution_count": 87,
   "outputs": [
    {
     "data": {
      "text/plain": "StandardScaler(copy=True, with_mean=True, with_std=True)"
     },
     "metadata": {},
     "output_type": "execute_result",
     "execution_count": 87
    }
   ],
   "source": [
    "# 训练数据集归一化\n",
    "\n",
    "standardScale = StandardScaler()\n",
    "standardScale.fit(X_train)  # 计算特征的均值和方差"
   ],
   "metadata": {
    "collapsed": false,
    "pycharm": {
     "name": "#%%\n",
     "is_executing": false
    }
   }
  },
  {
   "cell_type": "code",
   "execution_count": 88,
   "outputs": [
    {
     "data": {
      "text/plain": "array([5.78916667, 3.05      , 3.72833333, 1.1875    ])"
     },
     "metadata": {},
     "output_type": "execute_result",
     "execution_count": 88
    }
   ],
   "source": [
    "# 查看均值\n",
    "standardScale.mean_"
   ],
   "metadata": {
    "collapsed": false,
    "pycharm": {
     "name": "#%%\n",
     "is_executing": false
    }
   }
  },
  {
   "cell_type": "code",
   "execution_count": 89,
   "outputs": [
    {
     "data": {
      "text/plain": "array([0.79987456, 0.43397389, 1.71610913, 0.74280577])"
     },
     "metadata": {},
     "output_type": "execute_result",
     "execution_count": 89
    }
   ],
   "source": [
    "# 查看方差\n",
    "standardScale.scale_\n"
   ],
   "metadata": {
    "collapsed": false,
    "pycharm": {
     "name": "#%%\n",
     "is_executing": false
    }
   }
  },
  {
   "cell_type": "code",
   "execution_count": 90,
   "outputs": [
    {
     "data": {
      "text/plain": "array([[-0.36151502, -1.49778598, -0.01651022, -0.2524213 ],\n       [-0.11147581, -0.57607153,  0.21657519,  0.15145278],\n       [ 0.263583  , -1.9586432 ,  0.74101736,  0.42070217],\n       [-1.23665225, -0.11521431, -1.35675132, -1.46404355],\n       [-0.48653462,  1.9586432 , -1.41502267, -1.06016947],\n       [ 0.76366141,  0.34564292,  0.4496606 ,  0.42070217],\n       [-0.86159344,  1.72821459, -1.24020862, -1.32941885],\n       [-0.36151502, -1.26735736,  0.15830384,  0.15145278],\n       [ 0.63864181,  0.80650014,  1.09064548,  1.63232442],\n       [ 0.01354379, -0.57607153,  0.79928872,  1.63232442]])"
     },
     "metadata": {},
     "output_type": "execute_result",
     "execution_count": 90
    }
   ],
   "source": [
    "# 归一化\n",
    "X_train = standardScale.transform(X_train)\n",
    "X_train[:10,:]\n"
   ],
   "metadata": {
    "collapsed": false,
    "pycharm": {
     "name": "#%%\n",
     "is_executing": false
    }
   }
  },
  {
   "cell_type": "code",
   "execution_count": 91,
   "outputs": [
    {
     "data": {
      "text/plain": "array([[ 0.76366141, -0.57607153,  1.09064548,  1.22845033],\n       [-1.23665225,  0.80650014, -1.24020862, -1.32941885],\n       [ 2.38891626, -1.03692875,  1.84817306,  1.49769972],\n       [-0.11147581,  3.11078626, -1.29847997, -1.06016947],\n       [ 0.63864181, -0.80650014,  0.68274601,  0.82457625],\n       [ 2.38891626, -0.11521431,  1.38200224,  1.49769972],\n       [-0.73657383,  2.41950042, -1.29847997, -1.46404355],\n       [-1.11163264, -0.11521431, -1.35675132, -1.32941885],\n       [ 0.88868102, -0.11521431,  1.03237413,  0.82457625],\n       [-1.23665225, -0.11521431, -1.35675132, -1.19479416]])"
     },
     "metadata": {},
     "output_type": "execute_result",
     "execution_count": 91
    }
   ],
   "source": [
    "# 测试数据集归一化\n",
    "X_test_standard = standardScale.transform(X_test)\n",
    "X_test_standard[:10, :]"
   ],
   "metadata": {
    "collapsed": false,
    "pycharm": {
     "name": "#%%\n",
     "is_executing": false
    }
   }
  },
  {
   "cell_type": "code",
   "execution_count": 92,
   "outputs": [
    {
     "data": {
      "text/plain": "KNeighborsClassifier(algorithm='auto', leaf_size=30, metric='minkowski',\n                     metric_params=None, n_jobs=None, n_neighbors=3, p=2,\n                     weights='uniform')"
     },
     "metadata": {},
     "output_type": "execute_result",
     "execution_count": 92
    }
   ],
   "source": [
    "from sklearn.neighbors import KNeighborsClassifier\n",
    "\n",
    "knn_clf = KNeighborsClassifier(n_neighbors=3)\n",
    "knn_clf.fit(X_train, y_train)"
   ],
   "metadata": {
    "collapsed": false,
    "pycharm": {
     "name": "#%%\n",
     "is_executing": false
    }
   }
  },
  {
   "cell_type": "code",
   "execution_count": 93,
   "outputs": [
    {
     "data": {
      "text/plain": "1.0"
     },
     "metadata": {},
     "output_type": "execute_result",
     "execution_count": 93
    }
   ],
   "source": [
    "# 查看模型得分(归一化后的测试数据集)\n",
    "knn_clf.score(X_test_standard, y_test)  # 得分为100%"
   ],
   "metadata": {
    "collapsed": false,
    "pycharm": {
     "name": "#%%\n",
     "is_executing": false
    }
   }
  },
  {
   "cell_type": "markdown",
   "source": [
    "注意:此时不能传入没有归一化的测试数据集！"
   ],
   "metadata": {
    "collapsed": false,
    "pycharm": {
     "name": "#%% md\n"
    }
   }
  },
  {
   "cell_type": "code",
   "execution_count": 94,
   "outputs": [
    {
     "data": {
      "text/plain": "0.43333333333333335"
     },
     "metadata": {},
     "output_type": "execute_result",
     "execution_count": 94
    }
   ],
   "source": [
    "knn_clf.score(X_test, y_test)  # 模型得分很低"
   ],
   "metadata": {
    "collapsed": false,
    "pycharm": {
     "name": "#%%\n",
     "is_executing": false
    }
   }
  },
  {
   "cell_type": "markdown",
   "source": [
    "测试自己封装的Scale类"
   ],
   "metadata": {
    "collapsed": false,
    "pycharm": {
     "name": "#%% md\n"
    }
   }
  },
  {
   "cell_type": "code",
   "execution_count": 95,
   "outputs": [],
   "source": [
    "# 构造新数据集(未归一化的)\n",
    "data_iris = datasets.load_iris()\n",
    "X2 = data_iris.data\n",
    "y2 = data_iris.target\n",
    "\n",
    "X_train2, X_test2, y_train2, y_test2 = train_test_split(X2, y2)"
   ],
   "metadata": {
    "collapsed": false,
    "pycharm": {
     "name": "#%%\n",
     "is_executing": false
    }
   }
  },
  {
   "cell_type": "code",
   "source": [
    "%run preprocessing/preprocessing.py\n",
    "\n",
    "# 导入封装好的Scale类\n",
    "from preprocessing.preprocessing import StandardScaler\n",
    "\n",
    "my_standardScale = StandardScaler()"
   ],
   "metadata": {
    "collapsed": false,
    "pycharm": {
     "name": "#%% \n",
     "is_executing": false
    }
   },
   "execution_count": 96,
   "outputs": []
  },
  {
   "cell_type": "code",
   "execution_count": 97,
   "outputs": [
    {
     "data": {
      "text/plain": "array([[ 0.47198385,  0.79152547,  0.9544239 ,  1.47445467],\n       [-0.97629537,  1.02238707, -1.38053324, -1.15514602],\n       [ 0.71336373,  0.32980228,  0.44187233,  0.4226144 ],\n       [-0.7349155 ,  1.02238707, -1.26663289, -1.28662605],\n       [ 0.83405366, -0.13192091,  1.01137408,  0.8170545 ],\n       [-1.82112492, -0.13192091, -1.49443359, -1.41810609],\n       [ 2.28233289, -0.59364411,  1.69477617,  1.08001457],\n       [ 2.28233289, -0.13192091,  1.35307512,  1.47445467],\n       [ 1.07543353, -0.13192091,  0.72662321,  0.68557447],\n       [-0.37284569, -1.0553673 ,  0.38492216,  0.02817429]])"
     },
     "metadata": {},
     "output_type": "execute_result",
     "execution_count": 97
    }
   ],
   "source": [
    "# 训练数据集fit和transform\n",
    "my_standardScale.fit(X_train2)\n",
    "X_train2 = my_standardScale.transform(X_train2)\n",
    "X_train2[:10, :]"
   ],
   "metadata": {
    "collapsed": false,
    "pycharm": {
     "name": "#%%\n",
     "is_executing": false
    }
   }
  },
  {
   "cell_type": "code",
   "execution_count": 98,
   "outputs": [
    {
     "data": {
      "text/plain": "array([[ 0.10991405,  0.32980228,  0.61272286,  0.8170545 ],\n       [ 1.3168134 ,  0.09894068,  0.66967303,  0.4226144 ],\n       [ 1.92026308, -0.59364411,  1.35307512,  0.94853453],\n       [-0.25215576, -0.59364411,  0.66967303,  1.08001457],\n       [-1.33836518,  0.32980228, -1.38053324, -1.28662605],\n       [ 0.83405366, -0.59364411,  0.49882251,  0.4226144 ],\n       [-0.85560544,  0.56066388, -1.15273254, -0.89218595],\n       [-1.21767524,  0.79152547, -1.20968272, -1.28662605],\n       [-0.97629537,  1.25324867, -1.32358307, -1.28662605],\n       [ 1.07543353,  0.56066388,  1.12527443,  1.73741474]])"
     },
     "metadata": {},
     "output_type": "execute_result",
     "execution_count": 98
    }
   ],
   "source": [
    "# 测试数据集fit和transform\n",
    "X_test_standard2 = my_standardScale.transform(X_test2)\n",
    "X_test_standard2[:10, :]"
   ],
   "metadata": {
    "collapsed": false,
    "pycharm": {
     "name": "#%%\n",
     "is_executing": false
    }
   }
  },
  {
   "cell_type": "code",
   "execution_count": 99,
   "outputs": [
    {
     "data": {
      "text/plain": "0.9736842105263158"
     },
     "metadata": {},
     "output_type": "execute_result",
     "execution_count": 99
    }
   ],
   "source": [
    "# 验证自己的封装的Scale类的效果\n",
    "knn_clf2 = KNeighborsClassifier(n_neighbors=3)\n",
    "knn_clf2.fit(X_train2, y_train2)\n",
    "knn_clf2.score(X_test_standard2, y_test2) "
   ],
   "metadata": {
    "collapsed": false,
    "pycharm": {
     "name": "#%%\n",
     "is_executing": false
    }
   }
  },
  {
   "cell_type": "markdown",
   "source": [
    "自己封装的Scale类还是与Sklearn封装的有差距,得分都到不了100%\n",
    "\n",
    "主要是学习数据归一化的原理已经Slearn封装的思想\n"
   ],
   "metadata": {
    "collapsed": false,
    "pycharm": {
     "name": "#%% md\n"
    }
   }
  }
 ],
 "metadata": {
  "kernelspec": {
   "display_name": "Python 3",
   "language": "python",
   "name": "python3"
  },
  "language_info": {
   "codemirror_mode": {
    "name": "ipython",
    "version": 2
   },
   "file_extension": ".py",
   "mimetype": "text/x-python",
   "name": "python",
   "nbconvert_exporter": "python",
   "pygments_lexer": "ipython2",
   "version": "2.7.6"
  },
  "pycharm": {
   "stem_cell": {
    "cell_type": "raw",
    "source": [],
    "metadata": {
     "collapsed": false
    }
   }
  }
 },
 "nbformat": 4,
 "nbformat_minor": 0
}