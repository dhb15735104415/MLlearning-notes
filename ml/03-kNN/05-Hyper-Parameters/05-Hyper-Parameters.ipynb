{
 "cells": [
  {
   "cell_type": "markdown",
   "metadata": {
    "collapsed": true,
    "pycharm": {
     "name": "#%% md\n"
    }
   },
   "source": [
    "### 超参数\n",
    "\n",
    "超参数:在算法运行需要决定的参数\n",
    "    \n",
    "模型参数:算法过程中学习的参数\n",
    "\n",
    "kNN算法没有模型参数,其K值是典型的超参数"
   ]
  },
  {
   "cell_type": "code",
   "execution_count": 11,
   "metadata": {
    "pycharm": {
     "is_executing": false,
     "name": "#%%\n"
    }
   },
   "outputs": [
    {
     "data": {
      "text/plain": "(360,)"
     },
     "metadata": {},
     "output_type": "execute_result",
     "execution_count": 11
    }
   ],
   "source": [
    "from sklearn import datasets\n",
    "from sklearn.neighbors import KNeighborsClassifier\n",
    "from sklearn.model_selection import train_test_split\n",
    "\n",
    "# 构造数据和模型\n",
    "digits = datasets.load_digits()\n",
    "X = digits.data\n",
    "y = digits.target\n",
    "\n",
    "X_train, X_test, y_train, y_test = train_test_split(X, y, test_size=0.2, random_state=100) # 随机种子设为100\n",
    "\n",
    "knn_clf = KNeighborsClassifier(n_neighbors=5)\n",
    "knn_clf.fit(X_train, y_train)\n",
    "X_predict = knn_clf.predict(X_test)\n",
    "X_predict.shape\n"
   ]
  },
  {
   "cell_type": "code",
   "execution_count": 12,
   "outputs": [
    {
     "data": {
      "text/plain": "0.9861111111111112"
     },
     "metadata": {},
     "output_type": "execute_result",
     "execution_count": 12
    }
   ],
   "source": [
    "# 计算模型准确率(得分)\n",
    "knn_score = knn_clf.score(X_test, y_test)\n",
    "knn_score"
   ],
   "metadata": {
    "collapsed": false,
    "pycharm": {
     "name": "#%%\n",
     "is_executing": false
    }
   }
  },
  {
   "cell_type": "markdown",
   "source": [
    "如何获取更高的得分?K值选取多少合适?"
   ],
   "metadata": {
    "collapsed": false,
    "pycharm": {
     "name": "#%% md\n"
    }
   }
  },
  {
   "cell_type": "code",
   "execution_count": 13,
   "outputs": [
    {
     "name": "stdout",
     "text": [
      "best_score = 0.9972222222222222\n",
      "best_k = 3\n"
     ],
     "output_type": "stream"
    }
   ],
   "source": [
    "best_score = 0.0\n",
    "best_k = -1\n",
    "\n",
    "for k in range(1,11):\n",
    "    knn_clf = KNeighborsClassifier(n_neighbors=k)\n",
    "    knn_clf.fit(X_train, y_train)\n",
    "    knn_score = knn_clf.score(X_test, y_test)\n",
    "    \n",
    "    if knn_score > best_score:\n",
    "        best_score = knn_score\n",
    "        best_k = k\n",
    "\n",
    "print('best_score =', best_score)\n",
    "print('best_k =', best_k)"
   ],
   "metadata": {
    "collapsed": false,
    "pycharm": {
     "name": "#%%\n",
     "is_executing": false
    }
   }
  },
  {
   "cell_type": "markdown",
   "source": [
    "通过最简单的遍历k值后,得倒k = 3的时候,模型最好\n",
    "\n",
    "但是KNeighborsClassifier的参数有很多, 以下是源代码摘取初始化函数部分:\n",
    "  \n",
    "    def __init__(self, n_neighbors=5,\n",
    "                 weights='uniform', algorithm='auto', leaf_size=30,\n",
    "                 p=2, metric='minkowski', metric_params=None, n_jobs=None,\n",
    "                 **kwargs):\n",
    "  - n_neighbors: 即k值\n",
    "  - weights: 权重,为uniform时不考虑距离;为distance时考虑距离.(因为有很多距离公式可用)\n",
    "  - p: 不同的值表示不同的距离,p=1,表示曼哈顿距离,p=2表示欧拉距离, p=其他值(>2)表示明科夫斯基距离\n",
    "  - metric: 表示使用明科夫斯基距离"
   ],
   "metadata": {
    "collapsed": false,
    "pycharm": {
     "name": "#%% md\n"
    }
   }
  },
  {
   "cell_type": "markdown",
   "source": [
    "### 先考虑权重weights参数的取值"
   ],
   "metadata": {
    "collapsed": false,
    "pycharm": {
     "name": "#%% md\n"
    }
   }
  },
  {
   "cell_type": "code",
   "execution_count": 18,
   "outputs": [
    {
     "name": "stdout",
     "text": [
      "best_score = 0.9972222222222222\n",
      "best_k = 3\n",
      "best_weight = uniform\n"
     ],
     "output_type": "stream"
    }
   ],
   "source": [
    "best_weight = ['uniform', 'distance']\n",
    "best_score = 0.0\n",
    "best_k = -1\n",
    "\n",
    "for weight in best_weight:\n",
    "    for k in range(1, 11):\n",
    "        knn_clf = KNeighborsClassifier(n_neighbors=k, weights=weight)\n",
    "        knn_clf.fit(X_train, y_train)\n",
    "        knn_score = knn_clf.score(X_test, y_test)\n",
    "        if knn_score > best_score:\n",
    "            best_weight = weight\n",
    "            best_score = knn_score\n",
    "            best_k = k\n",
    "            \n",
    "print('best_score =', best_score)\n",
    "print('best_k =', best_k)\n",
    "print('best_weight =', best_weight)"
   ],
   "metadata": {
    "collapsed": false,
    "pycharm": {
     "name": "#%%\n",
     "is_executing": false
    }
   }
  },
  {
   "cell_type": "markdown",
   "source": [
    "值得注意的是,此测试中,p默认为2(取欧拉距离),如果p值改变,得分又如何?\n",
    "\n",
    "先简单测试以下"
   ],
   "metadata": {
    "collapsed": false,
    "pycharm": {
     "name": "#%% md\n"
    }
   }
  },
  {
   "cell_type": "code",
   "execution_count": 21,
   "outputs": [
    {
     "data": {
      "text/plain": "0.9888888888888889"
     },
     "metadata": {},
     "output_type": "execute_result",
     "execution_count": 21
    }
   ],
   "source": [
    "# k=3, weights='distance',p=1 测试以下\n",
    "knn_clf = KNeighborsClassifier(n_neighbors=3, weights='distance', p=1)\n",
    "knn_clf.fit(X_train, y_train)\n",
    "knn_clf.score(X_test, y_test)"
   ],
   "metadata": {
    "collapsed": false,
    "pycharm": {
     "name": "#%%\n",
     "is_executing": false
    }
   }
  },
  {
   "cell_type": "markdown",
   "source": [
    "得分为:0.9888888.....,比 weight='uniform', p=2的得分要低\n",
    "\n",
    "探索明可夫斯基距离相应的p"
   ],
   "metadata": {
    "collapsed": false,
    "pycharm": {
     "name": "#%% md\n"
    }
   }
  },
  {
   "cell_type": "code",
   "execution_count": 24,
   "outputs": [
    {
     "name": "stdout",
     "text": [
      "best_score = 0.9944444444444445\n",
      "best_k = 1\n",
      "best_p = 2\n",
      "Wall time: 22.4 s\n"
     ],
     "output_type": "stream"
    }
   ],
   "source": [
    "%%time\n",
    "best_score = 0.0\n",
    "best_k = -1\n",
    "best_p = -1\n",
    "\n",
    "for k in range(1, 11):\n",
    "    for p in range(1, 6):\n",
    "        knn_clf = KNeighborsClassifier(n_neighbors=k, weights='distance', p=p)\n",
    "        knn_clf.fit(X_train, y_train)\n",
    "        knn_score = knn_clf.score(X_test, y_test)\n",
    "        if knn_score > best_score:\n",
    "            best_p = p\n",
    "            best_score = knn_score\n",
    "            best_k = k\n",
    "            \n",
    "print('best_score =', best_score)\n",
    "print('best_k =', best_k)\n",
    "print('best_p =', best_p)    \n",
    "            "
   ],
   "metadata": {
    "collapsed": false,
    "pycharm": {
     "name": "#%%\n",
     "is_executing": false
    }
   }
  },
  {
   "cell_type": "markdown",
   "source": [
    "探索p值时,耗时较长(22.4秒)\n",
    "\n",
    "sklearn肯定封装了获取最优参数的方法,通过不断地训练模型来得出最好地参数\n",
    "\n",
    "最普通的for循环效率太低了"
   ],
   "metadata": {
    "collapsed": false,
    "pycharm": {
     "name": "#%% md\n"
    }
   }
  }
 ],
 "metadata": {
  "kernelspec": {
   "display_name": "Python 3",
   "language": "python",
   "name": "python3"
  },
  "language_info": {
   "codemirror_mode": {
    "name": "ipython",
    "version": 3
   },
   "file_extension": ".py",
   "mimetype": "text/x-python",
   "name": "python",
   "nbconvert_exporter": "python",
   "pygments_lexer": "ipython3",
   "version": "3.7.6"
  },
  "pycharm": {
   "stem_cell": {
    "cell_type": "raw",
    "source": [],
    "metadata": {
     "collapsed": false
    }
   }
  }
 },
 "nbformat": 4,
 "nbformat_minor": 1
}