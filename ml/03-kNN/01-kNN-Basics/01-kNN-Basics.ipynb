{
 "cells": [
  {
   "cell_type": "markdown",
   "metadata": {
    "collapsed": true,
    "pycharm": {
     "name": "#%% md\n"
    }
   },
   "source": [
    "### kNN算法概述\n",
    "kNN算法(kNN,k-NearestNeighbor)也称k-近邻算法,其采用测量不同特征值之间的距离方法进行进行分类.思想很简单,近朱者赤近墨者黑\n",
    "\n",
    "k是指从样本数据集中选择前k个最相似的数据\n",
    "\n",
    "优点:精度高,对异常值不敏感,无数据输入假定\n",
    "\n",
    "缺点:计算复杂度高,空间复杂度高\n",
    "\n",
    "适用数据范围:数值型和标称型"
   ]
  },
  {
   "cell_type": "code",
   "execution_count": 44,
   "outputs": [],
   "source": [
    "import numpy as np\n",
    "from collections import Counter\n",
    "import matplotlib.pyplot as plt"
   ],
   "metadata": {
    "collapsed": false,
    "pycharm": {
     "name": "#%%\n",
     "is_executing": false
    }
   }
  },
  {
   "cell_type": "code",
   "execution_count": 45,
   "outputs": [],
   "source": [
    "# 实现我们自己的 kNN\n",
    "# 创建简单测试用例\n",
    "raw_data_X = [[3.393533211, 2.331273381],\n",
    "              [3.110073483, 1.781539638],\n",
    "              [1.343808831, 3.368360954],\n",
    "              [3.582294042, 4.679179110],\n",
    "              [2.280362439, 2.866990263],\n",
    "              [7.423436942, 4.696522875],\n",
    "              [5.745051997, 3.533989803],\n",
    "              [9.172168622, 2.511101045],\n",
    "              [7.792783481, 3.424088941],\n",
    "              [7.939820817, 0.791637231]\n",
    "             ]\n",
    "raw_data_y = [0, 0, 0, 0, 0, 1, 1, 1, 1, 1]  # 分为两类,0和1\n",
    "\n",
    "# 构建训练数据,转成numpy.ndarray类型\n",
    "X_train = np.array(raw_data_X)\n",
    "y_train = np.array(raw_data_y)"
   ],
   "metadata": {
    "collapsed": false,
    "pycharm": {
     "name": "#%%\n",
     "is_executing": false
    }
   }
  },
  {
   "cell_type": "code",
   "execution_count": 46,
   "outputs": [
    {
     "data": {
      "text/plain": "array([[3.39353321, 2.33127338],\n       [3.11007348, 1.78153964],\n       [1.34380883, 3.36836095],\n       [3.58229404, 4.67917911],\n       [2.28036244, 2.86699026],\n       [7.42343694, 4.69652288],\n       [5.745052  , 3.5339898 ],\n       [9.17216862, 2.51110105],\n       [7.79278348, 3.42408894],\n       [7.93982082, 0.79163723]])"
     },
     "metadata": {},
     "output_type": "execute_result",
     "execution_count": 46
    }
   ],
   "source": [
    "X_train"
   ],
   "metadata": {
    "collapsed": false,
    "pycharm": {
     "name": "#%%\n",
     "is_executing": false
    }
   }
  },
  {
   "cell_type": "code",
   "execution_count": 47,
   "outputs": [
    {
     "data": {
      "text/plain": "array([0, 0, 0, 0, 0, 1, 1, 1, 1, 1])"
     },
     "metadata": {},
     "output_type": "execute_result",
     "execution_count": 47
    }
   ],
   "source": [
    "y_train"
   ],
   "metadata": {
    "collapsed": false,
    "pycharm": {
     "name": "#%%\n",
     "is_executing": false
    }
   }
  },
  {
   "cell_type": "code",
   "execution_count": 48,
   "outputs": [
    {
     "data": {
      "text/plain": "<Figure size 432x288 with 1 Axes>",
      "image/png": "[encoded data removed]"
     },
     "metadata": {
      "needs_background": "light"
     },
     "output_type": "display_data"
    }
   ],
   "source": [
    "# 绘制测试数据的散点图\n",
    "plt.scatter(X_train[y_train==0,0],X_train[y_train==0,1], color='g',marker='o')  # 绘制分类为0的散点图\n",
    "plt.scatter(X_train[y_train==1,0],X_train[y_train==1,1], color='r',marker='*')  # 绘制分类为1的散点图\n",
    "plt.show()"
   ],
   "metadata": {
    "collapsed": false,
    "pycharm": {
     "name": "#%%\n",
     "is_executing": false
    }
   }
  },
  {
   "cell_type": "code",
   "execution_count": 49,
   "outputs": [
    {
     "data": {
      "text/plain": "<Figure size 432x288 with 1 Axes>",
      "image/png": "[encoded data removed]"
     },
     "metadata": {
      "needs_background": "light"
     },
     "output_type": "display_data"
    }
   ],
   "source": [
    "# 测试给定的点,绘制散点图,初步判读其分布在哪个区域\n",
    "x = np.array([8.093607318, 3.365731514])\n",
    "plt.scatter(X_train[y_train==0,0],X_train[y_train==0,1], color='g',marker='o')  # 绘制分类为0的散点图\n",
    "plt.scatter(X_train[y_train==1,0],X_train[y_train==1,1], color='r',marker='*')  # 绘制分类为1的散点图\n",
    "plt.scatter(x[0], x[1], color='b', marker='^')  # 据图,初步判断其属于1类\n",
    "\n",
    "plt.show()"
   ],
   "metadata": {
    "collapsed": false,
    "pycharm": {
     "name": "#%%\n",
     "is_executing": false
    }
   }
  },
  {
   "cell_type": "code",
   "execution_count": 50,
   "outputs": [
    {
     "data": {
      "text/plain": "[4.812566907609877,\n 5.229270827235305,\n 6.749798999160064,\n 4.6986266144110695,\n 5.83460014556857,\n 1.4900114024329525,\n 2.354574897431513,\n 1.3761132675144652,\n 0.3064319992975,\n 2.5786840957478887]"
     },
     "metadata": {},
     "output_type": "execute_result",
     "execution_count": 50
    }
   ],
   "source": [
    "from math import sqrt\n",
    "# 接下来实现一个自己的kNN算法来测试判断是否正确\n",
    "distances = []\n",
    "distances = [sqrt(np.sum((x_train_i - x)**2)) for x_train_i in X_train]  # 计算点之间的距离\n",
    "distances"
   ],
   "metadata": {
    "collapsed": false,
    "pycharm": {
     "name": "#%%\n",
     "is_executing": false
    }
   }
  },
  {
   "cell_type": "code",
   "execution_count": 51,
   "outputs": [
    {
     "data": {
      "text/plain": "array([8, 7, 5, 6, 9, 3], dtype=int64)"
     },
     "metadata": {},
     "output_type": "execute_result",
     "execution_count": 51
    }
   ],
   "source": [
    "# 找出距离前6近的值,试试结果\n",
    "np.argsort(distances)[:6]  # 返回这6个值的下标"
   ],
   "metadata": {
    "collapsed": false,
    "pycharm": {
     "name": "#%%\n",
     "is_executing": false
    }
   }
  },
  {
   "cell_type": "code",
   "execution_count": 56,
   "outputs": [
    {
     "data": {
      "text/plain": "[1, 1, 1, 1, 1, 0]"
     },
     "metadata": {},
     "output_type": "execute_result",
     "execution_count": 56
    }
   ],
   "source": [
    "# 假设k=6,对比找出这些最近距离在y_train训练数据集中分类的情况\n",
    "nearest = np.argsort(distances)\n",
    "k = 6\n",
    "topK_y = [y_train[near] for near in nearest[:k]]\n",
    "topK_y  # 发现前5个都属于1分类,证明判断是正确的,人类直观判断"
   ],
   "metadata": {
    "collapsed": false,
    "pycharm": {
     "name": "#%%\n",
     "is_executing": false
    }
   }
  },
  {
   "cell_type": "code",
   "execution_count": 53,
   "outputs": [
    {
     "name": "stdout",
     "text": [
      "<class 'collections.Counter'>\n"
     ],
     "output_type": "stream"
    },
    {
     "data": {
      "text/plain": "Counter({1: 5, 0: 1})"
     },
     "metadata": {},
     "output_type": "execute_result",
     "execution_count": 53
    }
   ],
   "source": [
    "# 得让计算机来判断,通过'投票(统计)'来得出结论\n",
    "votes = Counter(topK_y)\n",
    "print(type(votes))\n",
    "votes  # 返回统计视图, 数据集是一个字典"
   ],
   "metadata": {
    "collapsed": false,
    "pycharm": {
     "name": "#%%\n",
     "is_executing": false
    }
   }
  },
  {
   "cell_type": "code",
   "execution_count": 54,
   "outputs": [
    {
     "data": {
      "text/plain": "[(1, 5)]"
     },
     "metadata": {},
     "output_type": "execute_result",
     "execution_count": 54
    }
   ],
   "source": [
    "votes.most_common(1)  # 找出最受欢迎的一个结果"
   ],
   "metadata": {
    "collapsed": false,
    "pycharm": {
     "name": "#%%\n",
     "is_executing": false
    }
   }
  },
  {
   "cell_type": "code",
   "execution_count": 55,
   "outputs": [
    {
     "data": {
      "text/plain": "1"
     },
     "metadata": {},
     "output_type": "execute_result",
     "execution_count": 55
    }
   ],
   "source": [
    "predict_y = votes.most_common(1)[0][0]  # 输出预测结果\n",
    "predict_y"
   ],
   "metadata": {
    "collapsed": false,
    "pycharm": {
     "name": "#%%\n",
     "is_executing": false
    }
   }
  }
 ],
 "metadata": {
  "kernelspec": {
   "display_name": "Python 3",
   "language": "python",
   "name": "python3"
  },
  "language_info": {
   "codemirror_mode": {
    "name": "ipython",
    "version": 2
   },
   "file_extension": ".py",
   "mimetype": "text/x-python",
   "name": "python",
   "nbconvert_exporter": "python",
   "pygments_lexer": "ipython2",
   "version": "2.7.6"
  },
  "pycharm": {
   "stem_cell": {
    "cell_type": "raw",
    "source": [],
    "metadata": {
     "collapsed": false
    }
   }
  }
 },
 "nbformat": 4,
 "nbformat_minor": 0
}