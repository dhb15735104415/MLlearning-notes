{
 "cells": [
  {
   "cell_type": "markdown",
   "metadata": {
    "collapsed": true,
    "pycharm": {
     "name": "#%% md\n"
    }
   },
   "source": [
    "## 实现简单线性回归法\n",
    "\n",
    "思路:\n",
    "\n",
    "1.求解x,y平均值\n",
    "\n",
    "2.利用最小二乘法公式求出a,b值\n",
    "\n",
    "3.带入数据x,求出预测值y\n",
    "\n",
    "最小二乘法\n",
    "公式参见[这里](MLlearning-notes/resources/img/最小二乘法ab的表达式.png)"
   ]
  },
  {
   "cell_type": "code",
   "execution_count": 1,
   "outputs": [],
   "source": [
    "import numpy as np\n",
    "import matplotlib.pyplot as plt\n",
    "\n",
    "x = np.array([1,2,3,4,5],dtype=float)\n",
    "y = np.array([2,4,4,7,8],dtype=float)\n",
    "\n",
    "x_mean = np.mean(x)\n",
    "y_mean = np.mean(y)"
   ],
   "metadata": {
    "collapsed": false,
    "pycharm": {
     "name": "#%%\n",
     "is_executing": false
    }
   }
  },
  {
   "cell_type": "code",
   "execution_count": 2,
   "outputs": [
    {
     "data": {
      "text/plain": "<Figure size 432x288 with 1 Axes>",
      "image/png": "[encoded data removed]"
     },
     "metadata": {
      "needs_background": "light"
     },
     "output_type": "display_data"
    }
   ],
   "source": [
    "# 查看x,y的散点图分布情况\n",
    "plt.scatter(x ,y)\n",
    "plt.show()"
   ],
   "metadata": {
    "collapsed": false,
    "pycharm": {
     "name": "#%%\n",
     "is_executing": false
    }
   }
  },
  {
   "cell_type": "code",
   "execution_count": 3,
   "outputs": [
    {
     "name": "stdout",
     "text": [
      "1.5\n",
      "0.5\n"
     ],
     "output_type": "stream"
    }
   ],
   "source": [
    "numerator = 0.0\n",
    "denominator = 0.0\n",
    "# 求解a,b值\n",
    "for x_i, y_i in zip(x,y):\n",
    "   numerator += (x_i - x_mean) * (y_i - y_mean) \n",
    "   denominator += (x_i - x_mean) ** 2\n",
    "\n",
    "a = numerator/denominator\n",
    "b = y_mean - a * x_mean\n",
    "print(a)\n",
    "print(b)"
   ],
   "metadata": {
    "collapsed": false,
    "pycharm": {
     "name": "#%%\n",
     "is_executing": false
    }
   }
  },
  {
   "cell_type": "code",
   "execution_count": 4,
   "outputs": [
    {
     "data": {
      "text/plain": "150.5"
     },
     "metadata": {},
     "output_type": "execute_result",
     "execution_count": 4
    }
   ],
   "source": [
    "# 预测y_predict\n",
    "x_new = 100\n",
    "y_predict = a * x_new + b\n",
    "y_predict"
   ],
   "metadata": {
    "collapsed": false,
    "pycharm": {
     "name": "#%%\n",
     "is_executing": false
    }
   }
  },
  {
   "cell_type": "markdown",
   "source": [
    "## 测试自己封装的简单线性回归算法"
   ],
   "metadata": {
    "collapsed": false,
    "pycharm": {
     "name": "#%% md\n"
    }
   }
  },
  {
   "cell_type": "code",
   "execution_count": 11,
   "outputs": [
    {
     "name": "stdout",
     "text": [
      "simple_linear1.a_ = 1.5\n",
      "simple_linear1.b_ = 0.5\n"
     ],
     "output_type": "stream"
    },
    {
     "data": {
      "text/plain": "array([150.5])"
     },
     "metadata": {},
     "output_type": "execute_result",
     "execution_count": 11
    }
   ],
   "source": [
    "from SimpleLinearRegression import SimpleLinearRegression1\n",
    "\n",
    "simple_linear1 = SimpleLinearRegression1()\n",
    "\n",
    "# fit 计算a,b的值\n",
    "simple_linear1.fit(x, y)\n",
    "print('simple_linear1.a_ =', simple_linear1.a_)\n",
    "print('simple_linear1.b_ =', simple_linear1.b_)\n",
    "\n",
    "# predict\n",
    "simple_linear1.predict(np.array([x_new]))"
   ],
   "metadata": {
    "collapsed": false,
    "pycharm": {
     "name": "#%%\n",
     "is_executing": false
    }
   }
  },
  {
   "cell_type": "code",
   "execution_count": 14,
   "outputs": [
    {
     "data": {
      "text/plain": "array([2. , 3.5, 5. , 6.5, 8. ])"
     },
     "metadata": {},
     "output_type": "execute_result",
     "execution_count": 14
    }
   ],
   "source": [
    "y_hat1 = simple_linear1.predict(x)\n",
    "y_hat1"
   ],
   "metadata": {
    "collapsed": false,
    "pycharm": {
     "name": "#%%\n",
     "is_executing": false
    }
   }
  },
  {
   "cell_type": "code",
   "execution_count": 16,
   "outputs": [
    {
     "data": {
      "text/plain": "<Figure size 432x288 with 1 Axes>",
      "image/png": "[encoded data removed]"
     },
     "metadata": {
      "needs_background": "light"
     },
     "output_type": "display_data"
    }
   ],
   "source": [
    "# 绘制散点图及线性回归方程图\n",
    "plt.scatter(x, y)\n",
    "plt.plot(x, y_hat1, color='r')\n",
    "\n",
    "plt.show()"
   ],
   "metadata": {
    "collapsed": false,
    "pycharm": {
     "name": "#%%\n",
     "is_executing": false
    }
   }
  }
 ],
 "metadata": {
  "kernelspec": {
   "display_name": "Python 3",
   "language": "python",
   "name": "python3"
  },
  "language_info": {
   "codemirror_mode": {
    "name": "ipython",
    "version": 2
   },
   "file_extension": ".py",
   "mimetype": "text/x-python",
   "name": "python",
   "nbconvert_exporter": "python",
   "pygments_lexer": "ipython2",
   "version": "2.7.6"
  },
  "pycharm": {
   "stem_cell": {
    "cell_type": "raw",
    "source": [],
    "metadata": {
     "collapsed": false
    }
   }
  }
 },
 "nbformat": 4,
 "nbformat_minor": 0
}