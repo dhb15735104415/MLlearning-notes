{
 "cells": [
  {
   "cell_type": "markdown",
   "metadata": {
    "collapsed": true,
    "pycharm": {
     "name": "#%% md\n"
    }
   },
   "source": [
    "### R Squared  (R^2)学习\n",
    "\n",
    "#### 1.MSE,RMSE,MAE的问题\n",
    "\n",
    "这三种衡量指标的缺点就是:对于不同的量纲,不容易评判模型的好换\n",
    "\n",
    "为了解决上述问题,引入了R方来评测线性回归法的好坏,也是sklearn用来评测线性回归模型好坏的指标\n",
    "\n",
    "\n",
    "#### 2.R方\n",
    "\n",
    "R方公式:\n",
    "[公式](img/R方公式.png)\n",
    "\n",
    "分子含义:使用我们的模型预测产生的错误\n",
    "\n",
    "父母含义:使用y=y_mean模型预测产生的错误, y=y_mean模型可以理解为最基础的模型(Baseline Model)\n",
    "\n",
    "var(y): 方差,variance\n",
    "\n",
    "根据公式,可以知道以下几点:\n",
    "- 衡量指标在0-1之间,容易判断模型好坏,越接近于1,模型越好\n",
    "- 值等于0,即分子等于分母,表示我们的模型和最基础模型一样,预测情况属于最坏情况\n",
    "- 值等于1,即分子等于0,表示我们的模型预测结果最好\n",
    "- 值小于0,即分子大于分母,表示我们的模型预测错误比最基础模型预测错误还多,说明我们的模型很差,可以认为数据不存在任何线性关系"
   ]
  },
  {
   "cell_type": "code",
   "execution_count": 1,
   "outputs": [],
   "source": [
    "import numpy as np\n",
    "from sklearn import datasets\n",
    "from sklearn.model_selection import train_test_split\n",
    "\n",
    "# 构造数据\n",
    "boston = datasets.load_boston()\n",
    "x = boston.data[:,5]\n",
    "y = boston.target\n",
    "\n",
    "x = x[y < 50]\n",
    "y = y[y < 50]\n",
    "\n",
    "x_train, x_test, y_train, y_test = train_test_split(x, y)"
   ],
   "metadata": {
    "collapsed": false,
    "pycharm": {
     "name": "#%%\n",
     "is_executing": false
    }
   }
  },
  {
   "cell_type": "code",
   "execution_count": 2,
   "outputs": [
    {
     "name": "stdout",
     "text": [
      "estimator.a_ =  8.00906703171903\n",
      "estimator.b_ =  -28.339893907078682\n"
     ],
     "output_type": "stream"
    },
    {
     "data": {
      "text/plain": "0.4878341968166112"
     },
     "metadata": {},
     "output_type": "execute_result",
     "execution_count": 2
    }
   ],
   "source": [
    "from SimpleLinearRegression import SimpleLinearRegression\n",
    "from accuracy_score.metrics import mean_squared_error\n",
    "# 训练模型\n",
    "estimator = SimpleLinearRegression()\n",
    "estimator.fit(x_train, y_train)\n",
    "\n",
    "print('estimator.a_ = ',estimator.a_)\n",
    "print('estimator.b_ = ',estimator.b_)\n",
    "# 预测\n",
    "y_predict = estimator.predict(x_test)\n",
    "\n",
    "# 计算MSE \n",
    "mse = mean_squared_error(y_test, y_predict)\n",
    "\n",
    "# 计算方差\n",
    "var = np.var(y_test)\n",
    "\n",
    "# r2\n",
    "r2 = 1 - mse/var\n",
    "r2"
   ],
   "metadata": {
    "collapsed": false,
    "pycharm": {
     "name": "#%%\n",
     "is_executing": false
    }
   }
  },
  {
   "cell_type": "markdown",
   "source": [
    "### 封装我们自己的r2_score\n",
    "代码[这里](accuracy_score/metrics.py)"
   ],
   "metadata": {
    "collapsed": false,
    "pycharm": {
     "name": "#%% md\n"
    }
   }
  },
  {
   "cell_type": "code",
   "execution_count": 3,
   "outputs": [
    {
     "data": {
      "text/plain": "0.4878341968166112"
     },
     "metadata": {},
     "output_type": "execute_result",
     "execution_count": 3
    }
   ],
   "source": [
    "from accuracy_score.metrics import r2_score\n",
    "result = r2_score(y_test, y_predict)\n",
    "result\n"
   ],
   "metadata": {
    "collapsed": false,
    "pycharm": {
     "name": "#%%\n",
     "is_executing": false
    }
   }
  },
  {
   "cell_type": "markdown",
   "source": [
    "### 使用sklean的r2_score"
   ],
   "metadata": {
    "collapsed": false,
    "pycharm": {
     "name": "#%% md\n"
    }
   }
  },
  {
   "cell_type": "code",
   "execution_count": 4,
   "outputs": [
    {
     "data": {
      "text/plain": "0.4878341968166112"
     },
     "metadata": {},
     "output_type": "execute_result",
     "execution_count": 4
    }
   ],
   "source": [
    "from sklearn.metrics import r2_score\n",
    "result = r2_score(y_test, y_predict)\n",
    "result"
   ],
   "metadata": {
    "collapsed": false,
    "pycharm": {
     "name": "#%%\n",
     "is_executing": false
    }
   }
  },
  {
   "cell_type": "markdown",
   "source": [
    "我们自己封装的R2计算的结果和sklearn封装的R2计算结果基本一致\n",
    "\n",
    "0.5都不到,绝大多数是数据的问题,毕竟我们只使用了波士顿房价数据的某一个特征(RM)来测试"
   ],
   "metadata": {
    "collapsed": false,
    "pycharm": {
     "name": "#%% md\n"
    }
   }
  }
 ],
 "metadata": {
  "kernelspec": {
   "display_name": "Python 3",
   "language": "python",
   "name": "python3"
  },
  "language_info": {
   "codemirror_mode": {
    "name": "ipython",
    "version": 2
   },
   "file_extension": ".py",
   "mimetype": "text/x-python",
   "name": "python",
   "nbconvert_exporter": "python",
   "pygments_lexer": "ipython2",
   "version": "2.7.6"
  },
  "pycharm": {
   "stem_cell": {
    "cell_type": "raw",
    "source": [],
    "metadata": {
     "collapsed": false
    }
   }
  }
 },
 "nbformat": 4,
 "nbformat_minor": 0
}