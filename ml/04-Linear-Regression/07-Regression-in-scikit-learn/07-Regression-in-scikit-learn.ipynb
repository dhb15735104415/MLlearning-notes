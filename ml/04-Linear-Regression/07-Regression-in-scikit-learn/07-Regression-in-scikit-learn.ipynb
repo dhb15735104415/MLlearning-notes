{
 "cells": [
  {
   "cell_type": "markdown",
   "metadata": {
    "collapsed": true,
    "pycharm": {
     "name": "#%% md\n"
    }
   },
   "source": [
    "### Sklearn中的多元线性回归算法实战\n"
   ]
  },
  {
   "cell_type": "code",
   "execution_count": 10,
   "outputs": [],
   "source": [
    "import numpy as np\n",
    "from sklearn import datasets\n",
    "\n",
    "# 构造数据\n",
    "boston = datasets.load_boston()\n",
    "X = boston.data\n",
    "y = boston.target\n",
    "\n",
    "# 清洗数据\n",
    "X = X[y < 50]\n",
    "y = y[y < 50]"
   ],
   "metadata": {
    "collapsed": false,
    "pycharm": {
     "name": "#%%\n",
     "is_executing": false
    }
   }
  },
  {
   "cell_type": "code",
   "execution_count": 2,
   "outputs": [],
   "source": [
    "# 分割训练和测试数据集\n",
    "from sklearn.model_selection import train_test_split\n",
    "X_train, X_test, y_train, y_test = train_test_split(X, y, test_size=0.2, random_state=100)\n"
   ],
   "metadata": {
    "collapsed": false,
    "pycharm": {
     "name": "#%%\n",
     "is_executing": false
    }
   }
  },
  {
   "cell_type": "code",
   "execution_count": 3,
   "outputs": [
    {
     "data": {
      "text/plain": "0.8509323089087225"
     },
     "metadata": {},
     "output_type": "execute_result",
     "execution_count": 3
    }
   ],
   "source": [
    "from sklearn.linear_model import LinearRegression\n",
    "\n",
    "# 训练模型\n",
    "estimator_reg = LinearRegression()\n",
    "estimator_reg.fit(X_train, y_train)\n",
    "\n",
    "# 评估模型\n",
    "estimator_reg.score(X_test, y_test)\n"
   ],
   "metadata": {
    "collapsed": false,
    "pycharm": {
     "name": "#%%\n",
     "is_executing": false
    }
   }
  },
  {
   "cell_type": "markdown",
   "source": [
    "查看正规方程解相关数据"
   ],
   "metadata": {
    "collapsed": false,
    "pycharm": {
     "name": "#%% md\n"
    }
   }
  },
  {
   "cell_type": "code",
   "execution_count": 22,
   "outputs": [
    {
     "data": {
      "text/plain": "array([-1.00287922e-01,  3.26543388e-02, -4.68509409e-02,  1.02921936e+00,\n       -1.15927300e+01,  3.59511341e+00, -2.53657709e-02, -1.16387369e+00,\n        2.22080674e-01, -1.21981663e-02, -8.16231253e-01,  7.16938620e-03,\n       -3.50243874e-01])"
     },
     "metadata": {},
     "output_type": "execute_result",
     "execution_count": 22
    }
   ],
   "source": [
    "# 查看系数\n",
    "estimator_reg.coef_\n"
   ],
   "metadata": {
    "collapsed": false,
    "pycharm": {
     "name": "#%%\n",
     "is_executing": false
    }
   }
  },
  {
   "cell_type": "code",
   "execution_count": 5,
   "outputs": [
    {
     "data": {
      "text/plain": "32.205113210463736"
     },
     "metadata": {},
     "output_type": "execute_result",
     "execution_count": 5
    }
   ],
   "source": [
    "# 查看截距\n",
    "estimator_reg.intercept_"
   ],
   "metadata": {
    "collapsed": false,
    "pycharm": {
     "name": "#%%\n",
     "is_executing": false
    }
   }
  },
  {
   "cell_type": "code",
   "execution_count": 19,
   "outputs": [
    {
     "data": {
      "text/plain": "array([ 4,  7, 10, 12,  0,  2,  6,  9, 11,  1,  8,  3,  5], dtype=int64)"
     },
     "metadata": {},
     "output_type": "execute_result",
     "execution_count": 19
    }
   ],
   "source": [
    "# 线性回归算法具有可解释性,因为每一个特征都一一对应有一个系数\n",
    "np.argsort(estimator_reg.coef_)  # 特征系数从小到大排序,返回下标list"
   ],
   "metadata": {
    "collapsed": false,
    "pycharm": {
     "name": "#%%\n",
     "is_executing": false
    }
   }
  },
  {
   "cell_type": "code",
   "execution_count": 20,
   "outputs": [
    {
     "data": {
      "text/plain": "array(['NOX', 'DIS', 'PTRATIO', 'LSTAT', 'CRIM', 'INDUS', 'AGE', 'TAX',\n       'B', 'ZN', 'RAD', 'CHAS', 'RM'], dtype='<U7')"
     },
     "metadata": {},
     "output_type": "execute_result",
     "execution_count": 20
    }
   ],
   "source": [
    "# 查看排好序的特征名称\n",
    "boston.feature_names[np.argsort(estimator_reg.coef_)]"
   ],
   "metadata": {
    "collapsed": false,
    "pycharm": {
     "name": "#%%\n",
     "is_executing": false
    }
   }
  },
  {
   "cell_type": "code",
   "execution_count": 14,
   "outputs": [
    {
     "name": "stdout",
     "text": [
      ".. _boston_dataset:\n",
      "\n",
      "Boston house prices dataset\n",
      "---------------------------\n",
      "\n",
      "**Data Set Characteristics:**  \n",
      "\n",
      "    :Number of Instances: 506 \n",
      "\n",
      "    :Number of Attributes: 13 numeric/categorical predictive. Median Value (attribute 14) is usually the target.\n",
      "\n",
      "    :Attribute Information (in order):\n",
      "        - CRIM     per capita crime rate by town\n",
      "        - ZN       proportion of residential land zoned for lots over 25,000 sq.ft.\n",
      "        - INDUS    proportion of non-retail business acres per town\n",
      "        - CHAS     Charles River dummy variable (= 1 if tract bounds river; 0 otherwise)\n",
      "        - NOX      nitric oxides concentration (parts per 10 million)\n",
      "        - RM       average number of rooms per dwelling\n",
      "        - AGE      proportion of owner-occupied units built prior to 1940\n",
      "        - DIS      weighted distances to five Boston employment centres\n",
      "        - RAD      index of accessibility to radial highways\n",
      "        - TAX      full-value property-tax rate per $10,000\n",
      "        - PTRATIO  pupil-teacher ratio by town\n",
      "        - B        1000(Bk - 0.63)^2 where Bk is the proportion of blacks by town\n",
      "        - LSTAT    % lower status of the population\n",
      "        - MEDV     Median value of owner-occupied homes in $1000's\n",
      "\n",
      "    :Missing Attribute Values: None\n",
      "\n",
      "    :Creator: Harrison, D. and Rubinfeld, D.L.\n",
      "\n",
      "This is a copy of UCI ML housing dataset.\n",
      "https://archive.ics.uci.edu/ml/machine-learning-databases/housing/\n",
      "\n",
      "\n",
      "This dataset was taken from the StatLib library which is maintained at Carnegie Mellon University.\n",
      "\n",
      "The Boston house-price data of Harrison, D. and Rubinfeld, D.L. 'Hedonic\n",
      "prices and the demand for clean air', J. Environ. Economics & Management,\n",
      "vol.5, 81-102, 1978.   Used in Belsley, Kuh & Welsch, 'Regression diagnostics\n",
      "...', Wiley, 1980.   N.B. Various transformations are used in the table on\n",
      "pages 244-261 of the latter.\n",
      "\n",
      "The Boston house-price data has been used in many machine learning papers that address regression\n",
      "problems.   \n",
      "     \n",
      ".. topic:: References\n",
      "\n",
      "   - Belsley, Kuh & Welsch, 'Regression diagnostics: Identifying Influential Data and Sources of Collinearity', Wiley, 1980. 244-261.\n",
      "   - Quinlan,R. (1993). Combining Instance-Based and Model-Based Learning. In Proceedings on the Tenth International Conference of Machine Learning, 236-243, University of Massachusetts, Amherst. Morgan Kaufmann.\n",
      "\n"
     ],
     "output_type": "stream"
    }
   ],
   "source": [
    "print(boston.DESCR)\n"
   ],
   "metadata": {
    "collapsed": false,
    "pycharm": {
     "name": "#%%\n",
     "is_executing": false
    }
   }
  },
  {
   "cell_type": "markdown",
   "source": [
    "根据波士顿房价信息描述,影响房价的因素有13个,feature_sort表示影响程度的排序\n",
    "\n",
    "estimator_reg.coef_是有正有负的,正数表示正相关,负数表示负相关\n",
    "\n",
    "解释部分排序:"
   ],
   "metadata": {
    "collapsed": false,
    "pycharm": {
     "name": "#%% md\n"
    }
   }
  },
  {
   "cell_type": "code",
   "execution_count": 29,
   "outputs": [
    {
     "name": "stdout",
     "text": [
      "[ 4  7 10 12  0  2  6  9 11  1  8  3  5]\n",
      "-11.592729992518393 NOX\n",
      "-1.1638736929941789 DIS\n",
      "-0.8162312532894358 PTRATIO\n",
      "1.0292193644381193 CHAS\n",
      "3.5951134076632307 RM\n"
     ],
     "output_type": "stream"
    }
   ],
   "source": [
    "print(np.argsort(estimator_reg.coef_))  # 特征系数从小到大排序,返回下标list\n",
    "\n",
    "# 负相关\n",
    "# NOX:nitric oxides concentration (parts per 10 million) 一氧化氮浓度（百万分之一）\n",
    "# 浓度越高,房价越低\n",
    "print(estimator_reg.coef_[4],boston.feature_names[4])\n",
    "\n",
    "# DIS:weighted distances to five Boston employment centres 与五个波士顿就业中心的加权距离\n",
    "# 距离越近,房价越高\n",
    "print(estimator_reg.coef_[7],boston.feature_names[7])\n",
    "\n",
    "# PTRATIO:pupil-teacher ratio by town 镇上小学师生比例\n",
    "# 师生比与房价成反比,教育的重视,教育资源越是富裕的地方,生源就会大,师生比自然会降低,周边的房价会升高\n",
    "print(estimator_reg.coef_[10],boston.feature_names[10])\n",
    "\n",
    "# 正相关\n",
    "# CHAS:Charles River dummy variable (= 1 if tract bounds river; 0 otherwise) 查尔斯河虚拟变量\n",
    "# 1表示靠近河流,0则不靠近  靠近河流的房间高\n",
    "print(estimator_reg.coef_[3],boston.feature_names[3])\n",
    "\n",
    "# RM:average number of rooms per dwelling 每个住宅的平均房间数\n",
    "# 房间越多,房价越高\n",
    "print(estimator_reg.coef_[5],boston.feature_names[5])\n",
    "\n"
   ],
   "metadata": {
    "collapsed": false,
    "pycharm": {
     "name": "#%%\n",
     "is_executing": false
    }
   }
  },
  {
   "cell_type": "markdown",
   "source": [
    "### 线性回归算法总结\n",
    " \n",
    "- 典型的参数学习,kNN为非参数学习,需要在训练过程中确定合适的参数\n",
    "\n",
    "- 只能解决回归问题\n",
    "\n",
    "- 在很多分类方法中,线性回归是基础,如逻辑回归\n",
    "\n",
    "- R方是模型评估常用的评估方式,虽然有MSE,RMSE,MAE\n",
    "\n",
    "- 在使用线性回归算法时,对数据是有一定假设的,即数据和预测值有一定的线性关系\n",
    "\n",
    "- 对数据具有强解释性\n",
    "\n",
    "对比kNN, kNN既能解决分类问题,还能解决回归问题\n",
    "\n",
    "### 使用kNN 解决回归问题"
   ],
   "metadata": {
    "collapsed": false,
    "pycharm": {
     "name": "#%% md\n"
    }
   }
  },
  {
   "cell_type": "code",
   "execution_count": 6,
   "outputs": [],
   "source": [
    "# 数据标准归一化\n",
    "from sklearn.preprocessing import StandardScaler\n",
    "\n",
    "standard_scaler = StandardScaler()\n",
    "standard_scaler.fit(X_train)\n",
    "X_train_standard = standard_scaler.transform(X_train)\n",
    "X_test_standard = standard_scaler.transform(X_test)"
   ],
   "metadata": {
    "collapsed": false,
    "pycharm": {
     "name": "#%%\n",
     "is_executing": false
    }
   }
  },
  {
   "cell_type": "code",
   "execution_count": 7,
   "outputs": [
    {
     "name": "stdout",
     "text": [
      "Fitting 5 folds for each of 60 candidates, totalling 300 fits\n"
     ],
     "output_type": "stream"
    },
    {
     "name": "stderr",
     "text": [
      "[Parallel(n_jobs=-1)]: Using backend LokyBackend with 8 concurrent workers.\n",
      "[Parallel(n_jobs=-1)]: Done  34 tasks      | elapsed:    1.0s\n",
      "[Parallel(n_jobs=-1)]: Done 300 out of 300 | elapsed:    1.3s finished\n"
     ],
     "output_type": "stream"
    },
    {
     "data": {
      "text/plain": "GridSearchCV(cv=None, error_score=nan,\n             estimator=KNeighborsRegressor(algorithm='auto', leaf_size=30,\n                                           metric='minkowski',\n                                           metric_params=None, n_jobs=None,\n                                           n_neighbors=5, p=2,\n                                           weights='uniform'),\n             iid='deprecated', n_jobs=-1,\n             param_grid=[{'n_neighbors': [1, 2, 3, 4, 5, 6, 7, 8, 9, 10],\n                          'weights': ['uniform']},\n                         {'n_neighbors': [1, 2, 3, 4, 5, 6, 7, 8, 9, 10],\n                          'p': [1, 2, 3, 4, 5], 'weights': ['distance']}],\n             pre_dispatch='2*n_jobs', refit=True, return_train_score=False,\n             scoring=None, verbose=1)"
     },
     "metadata": {},
     "output_type": "execute_result",
     "execution_count": 7
    }
   ],
   "source": [
    "from sklearn.model_selection import GridSearchCV\n",
    "from sklearn.neighbors import KNeighborsRegressor\n",
    "\n",
    "# 寻找模型最优化参数\n",
    "k = [i for i in range(1, 11)]\n",
    "params_grid = [\n",
    "    {\n",
    "        'weights':['uniform'],\n",
    "        'n_neighbors':k\n",
    "    },\n",
    "    {\n",
    "        'weights':['distance'],\n",
    "        'n_neighbors':k,\n",
    "        'p':[p for p in range(1, 6)]\n",
    "    }\n",
    "]\n",
    "\n",
    "estimator_knn = KNeighborsRegressor()\n",
    "\n",
    "grid_search_cv = GridSearchCV(estimator_knn, params_grid, n_jobs=-1, verbose=1)\n",
    "grid_search_cv.fit(X_train_standard, y_train)"
   ],
   "metadata": {
    "collapsed": false,
    "pycharm": {
     "name": "#%%\n",
     "is_executing": false
    }
   }
  },
  {
   "cell_type": "code",
   "execution_count": 30,
   "outputs": [
    {
     "data": {
      "text/plain": "{'n_neighbors': 5, 'p': 1, 'weights': 'distance'}"
     },
     "metadata": {},
     "output_type": "execute_result",
     "execution_count": 30
    }
   ],
   "source": [
    "# 查看最优化模型参数\n",
    "grid_search_cv.best_params_"
   ],
   "metadata": {
    "collapsed": false,
    "pycharm": {
     "name": "#%%\n",
     "is_executing": false
    }
   }
  },
  {
   "cell_type": "code",
   "execution_count": null,
   "outputs": [],
   "source": [
    "# 查看最高得分\n",
    "grid_search_cv.best_score_"
   ],
   "metadata": {
    "collapsed": false,
    "pycharm": {
     "name": "#%%\n"
    }
   }
  },
  {
   "cell_type": "code",
   "execution_count": 9,
   "outputs": [
    {
     "data": {
      "text/plain": "0.8622811965162893"
     },
     "metadata": {},
     "output_type": "execute_result",
     "execution_count": 9
    }
   ],
   "source": [
    "estimator_knn = grid_search_cv.best_estimator_\n",
    "# 评估模型\n",
    "estimator_knn.score(X_test_standard, y_test)"
   ],
   "metadata": {
    "collapsed": false,
    "pycharm": {
     "name": "#%%\n",
     "is_executing": false
    }
   }
  },
  {
   "cell_type": "markdown",
   "source": [
    "\n",
    "\n"
   ],
   "metadata": {
    "collapsed": false,
    "pycharm": {
     "name": "#%% md\n"
    }
   }
  }
 ],
 "metadata": {
  "kernelspec": {
   "display_name": "Python 3",
   "language": "python",
   "name": "python3"
  },
  "language_info": {
   "codemirror_mode": {
    "name": "ipython",
    "version": 2
   },
   "file_extension": ".py",
   "mimetype": "text/x-python",
   "name": "python",
   "nbconvert_exporter": "python",
   "pygments_lexer": "ipython2",
   "version": "2.7.6"
  },
  "pycharm": {
   "stem_cell": {
    "cell_type": "raw",
    "source": [],
    "metadata": {
     "collapsed": false
    }
   }
  }
 },
 "nbformat": 4,
 "nbformat_minor": 0
}