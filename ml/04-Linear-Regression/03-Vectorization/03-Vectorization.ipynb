{
 "cells": [
  {
   "cell_type": "markdown",
   "metadata": {
    "collapsed": true,
    "pycharm": {
     "name": "#%% md\n"
    }
   },
   "source": [
    "### 向量化运算\n",
    "\n",
    "因式累加可以转化为向量运算\n",
    "\n",
    "`x1*y1 + x2*y2 + ... +xn*yn`\n",
    "\n",
    "两向量相乘可以表示上诉运算:X * Y\n",
    "\n",
    "该运算性能大大提升,比for循环快很多"
   ]
  },
  {
   "cell_type": "code",
   "execution_count": 2,
   "outputs": [],
   "source": [
    "import numpy as np\n",
    "from SimpleLinearRegression import SimpleLinearRegression1\n",
    "from SimpleLinearRegression import SimpleLinearRegression2\n",
    "\n",
    "# 构造数据:为了比较两种不同运算实现的性能,数据规模为100W\n",
    "n = 10000000\n",
    "\n",
    "x = np.random.random(n)\n",
    "y = 3 * x + 2 + np.random.normal(size=n)  # 增加一个正态分布的偏移量"
   ],
   "metadata": {
    "collapsed": false,
    "pycharm": {
     "name": "#%%\n",
     "is_executing": false
    }
   }
  },
  {
   "cell_type": "code",
   "execution_count": 3,
   "outputs": [
    {
     "name": "stdout",
     "text": [
      "13.9 s ± 153 ms per loop (mean ± std. dev. of 7 runs, 1 loop each)\n",
      "196 ms ± 10.2 ms per loop (mean ± std. dev. of 7 runs, 1 loop each)\n"
     ],
     "output_type": "stream"
    }
   ],
   "source": [
    "# 测试模型\n",
    "\n",
    "estimator1 = SimpleLinearRegression1()\n",
    "estimator2 = SimpleLinearRegression2()\n",
    "\n",
    "%timeit estimator1.fit(x, y)\n",
    "%timeit estimator2.fit(x, y)"
   ],
   "metadata": {
    "collapsed": false,
    "pycharm": {
     "name": "#%%\n",
     "is_executing": false
    }
   }
  },
  {
   "cell_type": "markdown",
   "source": [
    "使用for循环的算法,耗时:13.9s作业\n",
    "使用向量运算的算法,耗时:196ms作业\n",
    "\n"
   ],
   "metadata": {
    "collapsed": false,
    "pycharm": {
     "name": "#%% md\n"
    }
   }
  },
  {
   "cell_type": "code",
   "execution_count": 6,
   "outputs": [
    {
     "name": "stdout",
     "text": [
      "使用for循环实现,预测结果y_predict1 =  [28.69139019]\n",
      "使用向量运算实现,预测结果y_predict2 =  [28.69139019]\n"
     ],
     "output_type": "stream"
    }
   ],
   "source": [
    "x_new = np.array([8.9])\n",
    "\n",
    "y_predict1 = estimator1.predict(x_new)\n",
    "y_predict2 = estimator2.predict(x_new)\n",
    "\n",
    "print(\"使用for循环实现,预测结果y_predict1 = \", y_predict1)\n",
    "print(\"使用向量运算实现,预测结果y_predict2 = \", y_predict2)\n"
   ],
   "metadata": {
    "collapsed": false,
    "pycharm": {
     "name": "#%%\n",
     "is_executing": false
    }
   }
  },
  {
   "cell_type": "code",
   "execution_count": 9,
   "outputs": [
    {
     "name": "stdout",
     "text": [
      "estimator1.a_ =  2.9989944378824234\n",
      "estimator1.b_ =  2.000339695980684\n",
      "estimator2.a_ =  2.9989944378825126\n",
      "estimator2.b_ =  2.0003396959806397\n"
     ],
     "output_type": "stream"
    }
   ],
   "source": [
    "\n",
    "print('estimator1.a_ = ', estimator1.a_)\n",
    "print('estimator1.b_ = ', estimator1.b_)\n",
    "\n",
    "print('estimator2.a_ = ', estimator2.a_)\n",
    "print('estimator2.b_ = ', estimator2.b_)"
   ],
   "metadata": {
    "collapsed": false,
    "pycharm": {
     "name": "#%%\n",
     "is_executing": false
    }
   }
  },
  {
   "cell_type": "markdown",
   "source": [
    "线性回归算法计算出的a , b值还是挺准确,和之前预设计好的值相差很小\n"
   ],
   "metadata": {
    "collapsed": false,
    "pycharm": {
     "name": "#%% md\n"
    }
   }
  }
 ],
 "metadata": {
  "kernelspec": {
   "display_name": "Python 3",
   "language": "python",
   "name": "python3"
  },
  "language_info": {
   "codemirror_mode": {
    "name": "ipython",
    "version": 2
   },
   "file_extension": ".py",
   "mimetype": "text/x-python",
   "name": "python",
   "nbconvert_exporter": "python",
   "pygments_lexer": "ipython2",
   "version": "2.7.6"
  },
  "pycharm": {
   "stem_cell": {
    "cell_type": "raw",
    "source": [],
    "metadata": {
     "collapsed": false
    }
   }
  }
 },
 "nbformat": 4,
 "nbformat_minor": 0
}