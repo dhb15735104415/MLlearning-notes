{
 "cells": [
  {
   "cell_type": "markdown",
   "metadata": {
    "collapsed": true,
    "pycharm": {
     "name": "#%% md\n"
    }
   },
   "source": [
    "## 线性回归算法\n",
    "线性回归是找到一条直线，最好的拟合所有的样本点\n",
    "\n",
    "概述及优点:\n",
    "- 解决回归问题\n",
    "- 思想简单,实现容易\n",
    "- 许多强大的非线性模型的基础\n",
    "- 结果具有很好的可解释性\n",
    "- 蕴含机器学习的很多重要思想\n",
    "\n",
    "### 简单线性回归(样本特征只有一个)\n",
    "假设我们找到了最佳拟合的直线方程:\n",
    "\n",
    "`y = a*x + b` \n",
    "\n",
    "则对于每一个样本点x_i,根据我们的直线方程,预测值为:\n",
    "\n",
    "`y_i_predict = a*x_i + b`\n",
    "\n",
    "真值为:\n",
    "\n",
    "`y_i_true(一般是已知的)`\n"
   ]
  },
  {
   "cell_type": "markdown",
   "source": [
    "### 衡量简单线性回归模型好坏的方法\n",
    "\n",
    "一般地,让预测值和真值之间地差距尽可能的小,越小,模型越好\n",
    "\n",
    "在机器学习中,可以用损失函数来表达这个意思\n",
    "\n",
    "- 即损失函数越小,模型越好\n",
    "\n",
    "损失函数(针对简单线性回归)的公式把这两个点相减平方求和以后得到的是什么？\n",
    "\n",
    "- 每个真实值与预测值差距的平方和\n",
    "\n",
    "为什么是差值的平方和?绝对值不可以吗?\n",
    "- 因为|y_true - y_predict|不是处处可导的, (y_true - y_predict)^2则处处可导\n",
    "\n",
    "因为f（x）=|x|,在x=0点处不可导\n",
    "\n",
    "当x≤0时，f（x）=-x，左导数为-1\n",
    "\n",
    "当x≥0时，f（x）=x，右导数为1\n",
    "\n",
    "左右导数不相等,所以不可导"
   ],
   "metadata": {
    "collapsed": false,
    "pycharm": {
     "name": "#%% md\n"
    }
   }
  },
  {
   "cell_type": "markdown",
   "source": [
    "### 损失函数最小基本思路\n",
    "\n",
    "单独一个样本数据损失函数表达式为:\n",
    "`(y_true - y_predict)^2 `\n",
    "\n",
    "而\n",
    "\n",
    "`y_predict = a*x_i + b`\n",
    "\n",
    "代入:\n",
    "\n",
    "`(y_true- a*x_i - b)^2` \n",
    "\n",
    "其中,y_true,x_i是已知的,就是样本数据值\n",
    "\n",
    "因此,**目标就是找到合适的a,b值**,保证差值的平方最小\n",
    "\n",
    "再扩展到所有样本数据,就是保证差值的平方和最小\n"
   ],
   "metadata": {
    "collapsed": false,
    "pycharm": {
     "name": "#%% md\n"
    }
   }
  }
 ],
 "metadata": {
  "kernelspec": {
   "display_name": "Python 3",
   "language": "python",
   "name": "python3"
  },
  "language_info": {
   "codemirror_mode": {
    "name": "ipython",
    "version": 2
   },
   "file_extension": ".py",
   "mimetype": "text/x-python",
   "name": "python",
   "nbconvert_exporter": "python",
   "pygments_lexer": "ipython2",
   "version": "2.7.6"
  },
  "pycharm": {
   "stem_cell": {
    "cell_type": "raw",
    "source": [],
    "metadata": {
     "collapsed": false
    }
   }
  }
 },
 "nbformat": 4,
 "nbformat_minor": 0
}